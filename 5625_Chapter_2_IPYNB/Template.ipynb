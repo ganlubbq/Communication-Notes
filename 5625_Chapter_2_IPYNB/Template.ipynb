{
 "cells": [
  {
   "cell_type": "raw",
   "metadata": {},
   "source": [
    "\\tableofcontents\n",
    "% These TeX commands run at the start to remove section numbering\n",
    "\\renewcommand{\\thesection}{\\hspace*{-1.0em}}\n",
    "\\renewcommand{\\thesubsection}{\\hspace*{-1.0em}}\n",
    "\\renewcommand{\\thesubsubsection}{\\hspace*{-1.0em}}"
   ]
  },
  {
   "cell_type": "code",
   "execution_count": 1,
   "metadata": {
    "collapsed": false
   },
   "outputs": [
    {
     "name": "stdout",
     "output_type": "stream",
     "text": [
      "Populating the interactive namespace from numpy and matplotlib\n"
     ]
    }
   ],
   "source": [
    "%pylab inline\n",
    "#%matplotlib qt\n",
    "from __future__ import division # use so 1/2 = 0.5, etc.\n",
    "import ssd\n",
    "import scipy.signal as signal\n",
    "from IPython.display import Audio, display\n",
    "from IPython.display import Image, SVG"
   ]
  },
  {
   "cell_type": "code",
   "execution_count": 2,
   "metadata": {
    "collapsed": true
   },
   "outputs": [],
   "source": [
    "pylab.rcParams['savefig.dpi'] = 100 # default 72\n",
    "#pylab.rcParams['figure.figsize'] = (6.0, 4.0) # default (6,4)\n",
    "#%config InlineBackend.figure_formats=['png'] # default for inline viewing\n",
    "%config InlineBackend.figure_formats=['svg'] # SVG inline viewing\n",
    "#%config InlineBackend.figure_formats=['pdf'] # render pdf figs for LaTeX"
   ]
  },
  {
   "cell_type": "code",
   "execution_count": null,
   "metadata": {
    "collapsed": true
   },
   "outputs": [],
   "source": [
    "n = arange(0,50)\n",
    "x = ssd.dstep(n)\n",
    "stem(n,x)"
   ]
  },
  {
   "cell_type": "code",
   "execution_count": 3,
   "metadata": {
    "collapsed": false
   },
   "outputs": [
    {
     "name": "stdout",
     "output_type": "stream",
     "text": [
      "Variable   Type      Data/Info\n",
      "------------------------------\n",
      "Audio      type      <class 'IPython.lib.display.Audio'>\n",
      "Image      type      <class 'IPython.core.display.Image'>\n",
      "SVG        type      <class 'IPython.core.display.SVG'>\n",
      "signal     module    <module 'scipy.signal' fr<...>ipy/signal/__init__.pyc'>\n",
      "ssd        module    <module 'ssd' from 'ssd.pyc'>\n"
     ]
    }
   ],
   "source": [
    "whos"
   ]
  },
  {
   "cell_type": "code",
   "execution_count": null,
   "metadata": {
    "collapsed": true
   },
   "outputs": [],
   "source": [
    "from IPython.display import display\n",
    "from sympy.interactive import printing\n",
    "printing.init_printing(use_latex='mathjax')\n",
    "import sympy as sym\n",
    "x,y,z,a,b,c = sym.symbols(\"x y z a b c\")"
   ]
  },
  {
   "cell_type": "raw",
   "metadata": {},
   "source": [
    "%Graphics embed example\n",
    "%Image('fname.png',width='90%')\n",
    "%Commandline for conversion to article:\n",
    "%>ipython nbconvert --to latex --template article  \"Template.ipynb\"\n",
    "% Commandline conversion to pdf in one step:\n",
    "%>ipython nbconvert --to latex --template article  \"Template.ipynb\" --post pdf \n",
    "%\\newpage"
   ]
  }
 ],
 "metadata": {
  "kernelspec": {
   "display_name": "Python 2",
   "language": "python",
   "name": "python2"
  },
  "language_info": {
   "codemirror_mode": {
    "name": "ipython",
    "version": 2
   },
   "file_extension": ".py",
   "mimetype": "text/x-python",
   "name": "python",
   "nbconvert_exporter": "python",
   "pygments_lexer": "ipython2",
   "version": "2.7.11"
  }
 },
 "nbformat": 4,
 "nbformat_minor": 0
}
